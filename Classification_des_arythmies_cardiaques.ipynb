{
  "nbformat": 4,
  "nbformat_minor": 0,
  "metadata": {
    "colab": {
      "provenance": []
    },
    "kernelspec": {
      "name": "python3",
      "display_name": "Python 3"
    },
    "language_info": {
      "name": "python"
    }
  },
  "cells": [
    {
      "cell_type": "code",
      "source": [
        "import pandas as pd\n",
        "from sklearn.model_selection import train_test_split\n",
        "from sklearn.preprocessing import StandardScaler\n",
        "from sklearn.metrics import accuracy_score, classification_report, confusion_matrix\n",
        "\n",
        "# Load the dataset\n",
        "kika = pd.read_csv('data_arrhythmia.csv', delimiter=';', na_values=['?'])\n",
        "kika.shape\n",
        "# Display the first few rows of the dataset\n",
        "\n",
        "\n",
        "# Separate features and target variable\n",
        "X = kika.drop('diagnosis', axis=1)\n",
        "y = kika['diagnosis']\n",
        "\n",
        "# Split the data into training and testing sets\n",
        "X_train, X_test, y_train, y_test = train_test_split(X, y, test_size=0.2, random_state=42)\n",
        "\n",
        "# Standardize the features (SVM often benefits from feature scaling)\n",
        "scaler = StandardScaler()\n",
        "X_train = scaler.fit_transform(X_train)\n",
        "X_test = scaler.transform(X_test)"
      ],
      "metadata": {
        "id": "QyN9LYmxJE9x"
      },
      "execution_count": null,
      "outputs": []
    },
    {
      "cell_type": "code",
      "source": [
        "from sklearn.impute import SimpleImputer\n",
        "from sklearn.svm import SVC\n",
        "from sklearn.metrics import accuracy_score, classification_report, confusion_matrix\n",
        "\n",
        "# Initialize the SVM model\n",
        "svm_model = SVC(kernel='linear', random_state=42)\n",
        "\n",
        "# Impute missing values in X_train\n",
        "imputer = SimpleImputer(strategy='mean')  # You can use 'median', 'most_frequent', etc.\n",
        "X_train_imputed = imputer.fit_transform(X_train)\n",
        "\n",
        "# Train the model\n",
        "svm_model.fit(X_train_imputed, y_train)\n",
        "\n",
        "# Impute missing values in X_test\n",
        "X_test_imputed = imputer.transform(X_test)\n",
        "\n",
        "# Make predictions\n",
        "y_pred_svm = svm_model.predict(X_test_imputed)\n",
        "\n",
        "# Evaluate the model\n",
        "print('SVM Model:')\n",
        "print(f'Accuracy: {accuracy_score(y_test, y_pred_svm):.2f}')\n",
        "print('Classification Report:')\n",
        "print(classification_report(y_test, y_pred_svm))\n",
        "print('Confusion Matrix:')\n",
        "print(confusion_matrix(y_test, y_pred_svm))\n"
      ],
      "metadata": {
        "colab": {
          "base_uri": "https://localhost:8080/"
        },
        "id": "K9xD2juiJbHu",
        "outputId": "0873c436-5088-41e5-de24-a716964a857d"
      },
      "execution_count": null,
      "outputs": [
        {
          "output_type": "stream",
          "name": "stdout",
          "text": [
            "SVM Model:\n",
            "Accuracy: 0.64\n",
            "Classification Report:\n",
            "              precision    recall  f1-score   support\n",
            "\n",
            "           1       0.62      0.86      0.72        44\n",
            "           2       0.43      0.43      0.43         7\n",
            "           3       1.00      0.80      0.89         5\n",
            "           4       0.50      1.00      0.67         1\n",
            "           5       0.00      0.00      0.00         2\n",
            "           6       1.00      0.17      0.29         6\n",
            "           8       0.00      0.00      0.00         1\n",
            "           9       1.00      1.00      1.00         1\n",
            "          10       0.83      0.62      0.71        16\n",
            "          14       0.00      0.00      0.00         1\n",
            "          15       0.00      0.00      0.00         1\n",
            "          16       0.00      0.00      0.00         6\n",
            "\n",
            "    accuracy                           0.64        91\n",
            "   macro avg       0.45      0.41      0.39        91\n",
            "weighted avg       0.62      0.64      0.59        91\n",
            "\n",
            "Confusion Matrix:\n",
            "[[38  1  0  0  0  0  0  0  2  0  0  3]\n",
            " [ 4  3  0  0  0  0  0  0  0  0  0  0]\n",
            " [ 1  0  4  0  0  0  0  0  0  0  0  0]\n",
            " [ 0  0  0  1  0  0  0  0  0  0  0  0]\n",
            " [ 1  1  0  0  0  0  0  0  0  0  0  0]\n",
            " [ 4  0  0  1  0  1  0  0  0  0  0  0]\n",
            " [ 1  0  0  0  0  0  0  0  0  0  0  0]\n",
            " [ 0  0  0  0  0  0  0  1  0  0  0  0]\n",
            " [ 5  1  0  0  0  0  0  0 10  0  0  0]\n",
            " [ 1  0  0  0  0  0  0  0  0  0  0  0]\n",
            " [ 0  1  0  0  0  0  0  0  0  0  0  0]\n",
            " [ 6  0  0  0  0  0  0  0  0  0  0  0]]\n"
          ]
        },
        {
          "output_type": "stream",
          "name": "stderr",
          "text": [
            "/usr/local/lib/python3.10/dist-packages/sklearn/metrics/_classification.py:1344: UndefinedMetricWarning: Precision and F-score are ill-defined and being set to 0.0 in labels with no predicted samples. Use `zero_division` parameter to control this behavior.\n",
            "  _warn_prf(average, modifier, msg_start, len(result))\n",
            "/usr/local/lib/python3.10/dist-packages/sklearn/metrics/_classification.py:1344: UndefinedMetricWarning: Precision and F-score are ill-defined and being set to 0.0 in labels with no predicted samples. Use `zero_division` parameter to control this behavior.\n",
            "  _warn_prf(average, modifier, msg_start, len(result))\n",
            "/usr/local/lib/python3.10/dist-packages/sklearn/metrics/_classification.py:1344: UndefinedMetricWarning: Precision and F-score are ill-defined and being set to 0.0 in labels with no predicted samples. Use `zero_division` parameter to control this behavior.\n",
            "  _warn_prf(average, modifier, msg_start, len(result))\n"
          ]
        }
      ]
    },
    {
      "cell_type": "code",
      "source": [
        "import numpy as np\n",
        "import pandas as pd\n",
        "import matplotlib.pyplot as plt\n",
        "import seaborn as sns\n",
        "from sklearn.datasets import load_iris\n",
        "from sklearn.model_selection import train_test_split\n",
        "from sklearn.impute import SimpleImputer\n",
        "from sklearn.svm import SVC\n",
        "from sklearn.metrics import accuracy_score, classification_report, confusion_matrix, precision_score, recall_score, f1_score\n",
        "\n",
        "# Load a sample dataset (Iris dataset)\n",
        "data = load_iris()\n",
        "X = data.data\n",
        "y = data.target\n",
        "\n",
        "# Introduce some NaN values for demonstration (you can skip this if your data already contains NaNs)\n",
        "X[0, 0] = np.nan\n",
        "X[10, 1] = np.nan\n",
        "\n",
        "# Split the dataset into training and testing sets\n",
        "X_train, X_test, y_train, y_test = train_test_split(X, y, test_size=0.3, random_state=42)\n",
        "\n",
        "# Initialize the SVM model\n",
        "svm_model = SVC(kernel='linear', random_state=42)\n",
        "\n",
        "# Impute missing values in X_train\n",
        "imputer = SimpleImputer(strategy='mean')  # You can use 'median', 'most_frequent', etc.\n",
        "X_train_imputed = imputer.fit_transform(X_train)\n",
        "\n",
        "# Train the model\n",
        "svm_model.fit(X_train_imputed, y_train)\n",
        "\n",
        "# Impute missing values in X_test\n",
        "X_test_imputed = imputer.transform(X_test)\n",
        "\n",
        "# Make predictions\n",
        "y_pred_svm = svm_model.predict(X_test_imputed)\n",
        "\n",
        "# Evaluate the model\n",
        "print('SVM Model:')\n",
        "print(f'Accuracy: {accuracy_score(y_test, y_pred_svm):.2f}')\n",
        "print('Classification Report:')\n",
        "print(classification_report(y_test, y_pred_svm))\n",
        "print('Confusion Matrix:')\n",
        "print(confusion_matrix(y_test, y_pred_svm))\n",
        "\n",
        "# Calculate precision, recall, f1-score, and accuracy\n",
        "precision = precision_score(y_test, y_pred_svm, average='weighted')\n",
        "recall = recall_score(y_test, y_pred_svm, average='weighted')\n",
        "f1 = f1_score(y_test, y_pred_svm, average='weighted')\n",
        "accuracy = accuracy_score(y_test, y_pred_svm)\n",
        "\n",
        "# Print detailed classification report\n",
        "print('Classification Report:')\n",
        "print(classification_report(y_test, y_pred_svm))\n",
        "\n",
        "# Print confusion matrix\n",
        "print('Confusion Matrix:')\n",
        "print(confusion_matrix(y_test, y_pred_svm))\n",
        "\n",
        "# Create a dictionary to store the metrics\n",
        "metrics_dict = {'Precision': precision, 'Recall': recall, 'F1-score': f1, 'Accuracy': accuracy}\n",
        "\n",
        "# Plot the metrics\n",
        "plt.figure(figsize=(10, 6))\n",
        "sns.barplot(x=list(metrics_dict.keys()), y=list(metrics_dict.values()), palette='viridis')\n",
        "plt.title('Performance Metrics')\n",
        "plt.ylabel('Score')\n",
        "plt.xlabel('Metrics')\n",
        "plt.ylim(0, 1)\n",
        "plt.show()\n",
        "\n"
      ],
      "metadata": {
        "colab": {
          "base_uri": "https://localhost:8080/",
          "height": 1000
        },
        "id": "ES2LXyQ-grEn",
        "outputId": "70bd7825-4162-456d-ff21-72225bf7de5f"
      },
      "execution_count": null,
      "outputs": [
        {
          "output_type": "stream",
          "name": "stdout",
          "text": [
            "SVM Model:\n",
            "Accuracy: 1.00\n",
            "Classification Report:\n",
            "              precision    recall  f1-score   support\n",
            "\n",
            "           0       1.00      1.00      1.00        19\n",
            "           1       1.00      1.00      1.00        13\n",
            "           2       1.00      1.00      1.00        13\n",
            "\n",
            "    accuracy                           1.00        45\n",
            "   macro avg       1.00      1.00      1.00        45\n",
            "weighted avg       1.00      1.00      1.00        45\n",
            "\n",
            "Confusion Matrix:\n",
            "[[19  0  0]\n",
            " [ 0 13  0]\n",
            " [ 0  0 13]]\n",
            "Classification Report:\n",
            "              precision    recall  f1-score   support\n",
            "\n",
            "           0       1.00      1.00      1.00        19\n",
            "           1       1.00      1.00      1.00        13\n",
            "           2       1.00      1.00      1.00        13\n",
            "\n",
            "    accuracy                           1.00        45\n",
            "   macro avg       1.00      1.00      1.00        45\n",
            "weighted avg       1.00      1.00      1.00        45\n",
            "\n",
            "Confusion Matrix:\n",
            "[[19  0  0]\n",
            " [ 0 13  0]\n",
            " [ 0  0 13]]\n"
          ]
        },
        {
          "output_type": "stream",
          "name": "stderr",
          "text": [
            "<ipython-input-3-3dd48c3522bd>:66: FutureWarning: \n",
            "\n",
            "Passing `palette` without assigning `hue` is deprecated and will be removed in v0.14.0. Assign the `x` variable to `hue` and set `legend=False` for the same effect.\n",
            "\n",
            "  sns.barplot(x=list(metrics_dict.keys()), y=list(metrics_dict.values()), palette='viridis')\n"
          ]
        },
        {
          "output_type": "display_data",
          "data": {
            "text/plain": [
              "<Figure size 1000x600 with 1 Axes>"
            ],
            "image/png": "[encoded data removed]"
          },
          "metadata": {}
        }
      ]
    },
    {
      "cell_type": "code",
      "source": [
        "kika.shape"
      ],
      "metadata": {
        "colab": {
          "base_uri": "https://localhost:8080/"
        },
        "id": "M-SXUsaXzjPS",
        "outputId": "27e22b50-2c4e-4e86-ad6b-b46706521410"
      },
      "execution_count": null,
      "outputs": [
        {
          "output_type": "execute_result",
          "data": {
            "text/plain": [
              "(452, 280)"
            ]
          },
          "metadata": {},
          "execution_count": 7
        }
      ]
    },
    {
      "cell_type": "code",
      "source": [
        "import pandas as pd\n",
        "from sklearn.model_selection import train_test_split\n",
        "from sklearn.preprocessing import StandardScaler\n",
        "from sklearn.metrics import accuracy_score, classification_report, confusion_matrix\n",
        "\n",
        "# Load the dataset\n",
        "kika = pd.read_csv('data_arrhythmia.csv', delimiter=';', na_values=['?'])\n",
        "kika.shape\n",
        "# Display the first few rows of the dataset\n",
        "\n",
        "\n",
        "# Separate features and target variable\n",
        "X = kika.drop('diagnosis', axis=1)\n",
        "y = kika['diagnosis']\n",
        "\n",
        "# Split the data into training and testing sets\n",
        "X_train, X_test, y_train, y_test = train_test_split(X, y, test_size=0.2, random_state=42)\n",
        "\n",
        "# Standardize the features (SVM often benefits from feature scaling)\n",
        "scaler = StandardScaler()\n",
        "X_train = scaler.fit_transform(X_train)\n",
        "X_test = scaler.transform(X_test)\n",
        "\n",
        "from sklearn.impute import SimpleImputer\n",
        "from sklearn.svm import SVC\n",
        "from sklearn.metrics import accuracy_score, classification_report, confusion_matrix\n",
        "\n",
        "# Initialize the SVM model\n",
        "svm_model = SVC(kernel='linear', random_state=42)\n",
        "\n",
        "# Impute missing values in X_train\n",
        "imputer = SimpleImputer(strategy='mean')  # You can use 'median', 'most_frequent', etc.\n",
        "X_train_imputed = imputer.fit_transform(X_train)\n",
        "\n",
        "# Train the model\n",
        "svm_model.fit(X_train_imputed, y_train)\n",
        "\n",
        "# Impute missing values in X_test\n",
        "X_test_imputed = imputer.transform(X_test)\n",
        "\n",
        "# Make predictions\n",
        "y_pred_svm = svm_model.predict(X_test_imputed)\n",
        "\n",
        "# Evaluate the model\n",
        "print('SVM Model:')\n",
        "print(f'Accuracy: {accuracy_score(y_test, y_pred_svm):.2f}')\n",
        "print('Classification Report:')\n",
        "print(classification_report(y_test, y_pred_svm))\n",
        "print('Confusion Matrix:')\n",
        "print(confusion_matrix(y_test, y_pred_svm))\n"
      ],
      "metadata": {
        "colab": {
          "base_uri": "https://localhost:8080/"
        },
        "id": "48AWA5FnA4vf",
        "outputId": "ec90e687-aec3-4545-ac39-f143741669a9"
      },
      "execution_count": null,
      "outputs": [
        {
          "output_type": "stream",
          "name": "stdout",
          "text": [
            "SVM Model:\n",
            "Accuracy: 0.64\n",
            "Classification Report:\n",
            "              precision    recall  f1-score   support\n",
            "\n",
            "           1       0.62      0.86      0.72        44\n",
            "           2       0.43      0.43      0.43         7\n",
            "           3       1.00      0.80      0.89         5\n",
            "           4       0.50      1.00      0.67         1\n",
            "           5       0.00      0.00      0.00         2\n",
            "           6       1.00      0.17      0.29         6\n",
            "           8       0.00      0.00      0.00         1\n",
            "           9       1.00      1.00      1.00         1\n",
            "          10       0.83      0.62      0.71        16\n",
            "          14       0.00      0.00      0.00         1\n",
            "          15       0.00      0.00      0.00         1\n",
            "          16       0.00      0.00      0.00         6\n",
            "\n",
            "    accuracy                           0.64        91\n",
            "   macro avg       0.45      0.41      0.39        91\n",
            "weighted avg       0.62      0.64      0.59        91\n",
            "\n",
            "Confusion Matrix:\n",
            "[[38  1  0  0  0  0  0  0  2  0  0  3]\n",
            " [ 4  3  0  0  0  0  0  0  0  0  0  0]\n",
            " [ 1  0  4  0  0  0  0  0  0  0  0  0]\n",
            " [ 0  0  0  1  0  0  0  0  0  0  0  0]\n",
            " [ 1  1  0  0  0  0  0  0  0  0  0  0]\n",
            " [ 4  0  0  1  0  1  0  0  0  0  0  0]\n",
            " [ 1  0  0  0  0  0  0  0  0  0  0  0]\n",
            " [ 0  0  0  0  0  0  0  1  0  0  0  0]\n",
            " [ 5  1  0  0  0  0  0  0 10  0  0  0]\n",
            " [ 1  0  0  0  0  0  0  0  0  0  0  0]\n",
            " [ 0  1  0  0  0  0  0  0  0  0  0  0]\n",
            " [ 6  0  0  0  0  0  0  0  0  0  0  0]]\n"
          ]
        },
        {
          "output_type": "stream",
          "name": "stderr",
          "text": [
            "/usr/local/lib/python3.10/dist-packages/sklearn/metrics/_classification.py:1344: UndefinedMetricWarning: Precision and F-score are ill-defined and being set to 0.0 in labels with no predicted samples. Use `zero_division` parameter to control this behavior.\n",
            "  _warn_prf(average, modifier, msg_start, len(result))\n",
            "/usr/local/lib/python3.10/dist-packages/sklearn/metrics/_classification.py:1344: UndefinedMetricWarning: Precision and F-score are ill-defined and being set to 0.0 in labels with no predicted samples. Use `zero_division` parameter to control this behavior.\n",
            "  _warn_prf(average, modifier, msg_start, len(result))\n",
            "/usr/local/lib/python3.10/dist-packages/sklearn/metrics/_classification.py:1344: UndefinedMetricWarning: Precision and F-score are ill-defined and being set to 0.0 in labels with no predicted samples. Use `zero_division` parameter to control this behavior.\n",
            "  _warn_prf(average, modifier, msg_start, len(result))\n"
          ]
        }
      ]
    },
    {
      "cell_type": "code",
      "source": [
        "import pandas as pd\n",
        "from sklearn.model_selection import train_test_split\n",
        "from sklearn.preprocessing import StandardScaler\n",
        "from sklearn.impute import SimpleImputer\n",
        "from sklearn.svm import SVC\n",
        "from sklearn.metrics import accuracy_score, classification_report, confusion_matrix\n",
        "\n",
        "def train_and_predict_svm(features):\n",
        "    # Load the dataset\n",
        "    kika = pd.read_csv('data_arrhythmia.csv', delimiter=';', na_values=['?'])\n",
        "\n",
        "    # Display the first few rows of the dataset\n",
        "    print(kika.head())\n",
        "\n",
        "    # Separate features and target variable\n",
        "    X = kika[features]\n",
        "    y = kika['diagnosis']\n",
        "\n",
        "    # Split the data into training and testing sets\n",
        "    X_train, X_test, y_train, y_test = train_test_split(X, y, test_size=0.2, random_state=42)\n",
        "\n",
        "    # Standardize the features\n",
        "    scaler = StandardScaler()\n",
        "    X_train = scaler.fit_transform(X_train)\n",
        "    X_test = scaler.transform(X_test)\n",
        "\n",
        "    # Initialize the SVM model\n",
        "    svm_model = SVC(kernel='linear', random_state=42)\n",
        "\n",
        "    # Impute missing values in X_train\n",
        "    imputer = SimpleImputer(strategy='mean')\n",
        "    X_train_imputed = imputer.fit_transform(X_train)\n",
        "\n",
        "    # Train the model\n",
        "    svm_model.fit(X_train_imputed, y_train)\n",
        "\n",
        "    # Impute missing values in X_test\n",
        "    X_test_imputed = imputer.transform(X_test)\n",
        "\n",
        "    # Make predictions\n",
        "    y_pred_svm = svm_model.predict(X_test_imputed)\n",
        "\n",
        "    # Evaluate the model\n",
        "    print('SVM Model:')\n",
        "    print(f'Accuracy: {accuracy_score(y_test, y_pred_svm):.2f}')\n",
        "    print('Classification Report:')\n",
        "    print(classification_report(y_test, y_pred_svm))\n",
        "    print('Confusion Matrix:')\n",
        "    print(confusion_matrix(y_test, y_pred_svm))\n",
        "\n",
        "# Example usage:\n",
        "features = ['60;1;170;70;85;180;400;150;100;15;25;10;50;5;70;1;50;30;10;5;30;20;10;5;0;0;0;10;20;10;30;0;20;10;0;20;10;0;0;10;5;20;0;0;0;40;0;0;10;5;0;0;0;0;0;0;0;0;0;0;0;40;30;0;10;20;0;0;0;0;0;0;30;20;0;0;0;40;0;0;0;0;0;0;60;0;0;0;0;0;0;0;0;0;0;0;0;30;40;0;0;20;0;0;0;0;0;0;0;40;30;0;0;20;0;0;0;0;0;0;0;40;40;0;0;30;0;0;0;0;0;0;0;40;30;0;0;20;0;0;0;0;0;0;0;40;20;0;0;20;0;0;0;0;0;0;1.0;0;5.0;-1.0;0;0;0.5;2.0;10.0;25.0;0;0;2.0;0;0;0;1.0;1.0;10.0;20.0;0.1;-3.0;1.0;0']  # Replace with actual feature names\n",
        "train_and_predict_svm(features)"
      ],
      "metadata": {
        "colab": {
          "base_uri": "https://localhost:8080/",
          "height": 825
        },
        "id": "tMvMpGAWh0Id",
        "outputId": "7b9d7461-af7b-485e-ef1c-fd861c94c886"
      },
      "execution_count": null,
      "outputs": [
        {
          "output_type": "stream",
          "name": "stdout",
          "text": [
            "   age  sex  height  weight  qrs_duration  p-r_interval  q-t_interval  \\\n",
            "0   75    0     190      80            91           193           371   \n",
            "1   56    1     165      64            81           174           401   \n",
            "2   54    0     172      95           138           163           386   \n",
            "3   55    0     175      94           100           202           380   \n",
            "4   75    0     190      80            88           181           360   \n",
            "\n",
            "   t_interval  p_interval  qrs  ...   KY    KZ   LA   LB  LC   LD   LE    LF  \\\n",
            "0         174         121  -16  ...  0.0   9.0 -0.9  0.0   0  0.9  2.9  23.3   \n",
            "1         149          39   25  ...  0.0   8.5  0.0  0.0   0  0.2  2.1  20.4   \n",
            "2         185         102   96  ...  0.0   9.5 -2.4  0.0   0  0.3  3.4  12.3   \n",
            "3         179         143   28  ...  0.0  12.2 -2.2  0.0   0  0.4  2.6  34.6   \n",
            "4         177         103  -16  ...  0.0  13.1 -3.6  0.0   0 -0.1  3.9  25.4   \n",
            "\n",
            "     LG  diagnosis  \n",
            "0  49.4          8  \n",
            "1  38.8          6  \n",
            "2  49.0         10  \n",
            "3  61.6          1  \n",
            "4  62.8          7  \n",
            "\n",
            "[5 rows x 280 columns]\n"
          ]
        },
        {
          "output_type": "error",
          "ename": "KeyError",
          "evalue": "\"None of [Index(['60;1;170;70;85;180;400;150;100;15;25;10;50;5;70;1;50;30;10;5;30;20;10;5;0;0;0;10;20;10;30;0;20;10;0;20;10;0;0;10;5;20;0;0;0;40;0;0;10;5;0;0;0;0;0;0;0;0;0;0;0;40;30;0;10;20;0;0;0;0;0;0;30;20;0;0;0;40;0;0;0;0;0;0;60;0;0;0;0;0;0;0;0;0;0;0;0;30;40;0;0;20;0;0;0;0;0;0;0;40;30;0;0;20;0;0;0;0;0;0;0;40;40;0;0;30;0;0;0;0;0;0;0;40;30;0;0;20;0;0;0;0;0;0;0;40;20;0;0;20;0;0;0;0;0;0;1.0;0;5.0;-1.0;0;0;0.5;2.0;10.0;25.0;0;0;2.0;0;0;0;1.0;1.0;10.0;20.0;0.1;-3.0;1.0;0'], dtype='object')] are in the [columns]\"",
          "traceback": [
            "\u001b[0;31m---------------------------------------------------------------------------\u001b[0m",
            "\u001b[0;31mKeyError\u001b[0m                                  Traceback (most recent call last)",
            "\u001b[0;32m<ipython-input-2-a415632bda4e>\u001b[0m in \u001b[0;36m<cell line: 53>\u001b[0;34m()\u001b[0m\n\u001b[1;32m     51\u001b[0m \u001b[0;31m# Example usage:\u001b[0m\u001b[0;34m\u001b[0m\u001b[0;34m\u001b[0m\u001b[0m\n\u001b[1;32m     52\u001b[0m \u001b[0mfeatures\u001b[0m \u001b[0;34m=\u001b[0m \u001b[0;34m[\u001b[0m\u001b[0;34m'60;1;170;70;85;180;400;150;100;15;25;10;50;5;70;1;50;30;10;5;30;20;10;5;0;0;0;10;20;10;30;0;20;10;0;20;10;0;0;10;5;20;0;0;0;40;0;0;10;5;0;0;0;0;0;0;0;0;0;0;0;40;30;0;10;20;0;0;0;0;0;0;30;20;0;0;0;40;0;0;0;0;0;0;60;0;0;0;0;0;0;0;0;0;0;0;0;30;40;0;0;20;0;0;0;0;0;0;0;40;30;0;0;20;0;0;0;0;0;0;0;40;40;0;0;30;0;0;0;0;0;0;0;40;30;0;0;20;0;0;0;0;0;0;0;40;20;0;0;20;0;0;0;0;0;0;1.0;0;5.0;-1.0;0;0;0.5;2.0;10.0;25.0;0;0;2.0;0;0;0;1.0;1.0;10.0;20.0;0.1;-3.0;1.0;0'\u001b[0m\u001b[0;34m]\u001b[0m  \u001b[0;31m# Replace with actual feature names\u001b[0m\u001b[0;34m\u001b[0m\u001b[0;34m\u001b[0m\u001b[0m\n\u001b[0;32m---> 53\u001b[0;31m \u001b[0mtrain_and_predict_svm\u001b[0m\u001b[0;34m(\u001b[0m\u001b[0mfeatures\u001b[0m\u001b[0;34m)\u001b[0m\u001b[0;34m\u001b[0m\u001b[0;34m\u001b[0m\u001b[0m\n\u001b[0m",
            "\u001b[0;32m<ipython-input-2-a415632bda4e>\u001b[0m in \u001b[0;36mtrain_and_predict_svm\u001b[0;34m(features)\u001b[0m\n\u001b[1;32m     14\u001b[0m \u001b[0;34m\u001b[0m\u001b[0m\n\u001b[1;32m     15\u001b[0m     \u001b[0;31m# Separate features and target variable\u001b[0m\u001b[0;34m\u001b[0m\u001b[0;34m\u001b[0m\u001b[0m\n\u001b[0;32m---> 16\u001b[0;31m     \u001b[0mX\u001b[0m \u001b[0;34m=\u001b[0m \u001b[0mkika\u001b[0m\u001b[0;34m[\u001b[0m\u001b[0mfeatures\u001b[0m\u001b[0;34m]\u001b[0m\u001b[0;34m\u001b[0m\u001b[0;34m\u001b[0m\u001b[0m\n\u001b[0m\u001b[1;32m     17\u001b[0m     \u001b[0my\u001b[0m \u001b[0;34m=\u001b[0m \u001b[0mkika\u001b[0m\u001b[0;34m[\u001b[0m\u001b[0;34m'diagnosis'\u001b[0m\u001b[0;34m]\u001b[0m\u001b[0;34m\u001b[0m\u001b[0;34m\u001b[0m\u001b[0m\n\u001b[1;32m     18\u001b[0m \u001b[0;34m\u001b[0m\u001b[0m\n",
            "\u001b[0;32m/usr/local/lib/python3.10/dist-packages/pandas/core/frame.py\u001b[0m in \u001b[0;36m__getitem__\u001b[0;34m(self, key)\u001b[0m\n\u001b[1;32m   3765\u001b[0m             \u001b[0;32mif\u001b[0m \u001b[0mis_iterator\u001b[0m\u001b[0;34m(\u001b[0m\u001b[0mkey\u001b[0m\u001b[0;34m)\u001b[0m\u001b[0;34m:\u001b[0m\u001b[0;34m\u001b[0m\u001b[0;34m\u001b[0m\u001b[0m\n\u001b[1;32m   3766\u001b[0m                 \u001b[0mkey\u001b[0m \u001b[0;34m=\u001b[0m \u001b[0mlist\u001b[0m\u001b[0;34m(\u001b[0m\u001b[0mkey\u001b[0m\u001b[0;34m)\u001b[0m\u001b[0;34m\u001b[0m\u001b[0;34m\u001b[0m\u001b[0m\n\u001b[0;32m-> 3767\u001b[0;31m             \u001b[0mindexer\u001b[0m \u001b[0;34m=\u001b[0m \u001b[0mself\u001b[0m\u001b[0;34m.\u001b[0m\u001b[0mcolumns\u001b[0m\u001b[0;34m.\u001b[0m\u001b[0m_get_indexer_strict\u001b[0m\u001b[0;34m(\u001b[0m\u001b[0mkey\u001b[0m\u001b[0;34m,\u001b[0m \u001b[0;34m\"columns\"\u001b[0m\u001b[0;34m)\u001b[0m\u001b[0;34m[\u001b[0m\u001b[0;36m1\u001b[0m\u001b[0;34m]\u001b[0m\u001b[0;34m\u001b[0m\u001b[0;34m\u001b[0m\u001b[0m\n\u001b[0m\u001b[1;32m   3768\u001b[0m \u001b[0;34m\u001b[0m\u001b[0m\n\u001b[1;32m   3769\u001b[0m         \u001b[0;31m# take() does not accept boolean indexers\u001b[0m\u001b[0;34m\u001b[0m\u001b[0;34m\u001b[0m\u001b[0m\n",
            "\u001b[0;32m/usr/local/lib/python3.10/dist-packages/pandas/core/indexes/base.py\u001b[0m in \u001b[0;36m_get_indexer_strict\u001b[0;34m(self, key, axis_name)\u001b[0m\n\u001b[1;32m   5875\u001b[0m             \u001b[0mkeyarr\u001b[0m\u001b[0;34m,\u001b[0m \u001b[0mindexer\u001b[0m\u001b[0;34m,\u001b[0m \u001b[0mnew_indexer\u001b[0m \u001b[0;34m=\u001b[0m \u001b[0mself\u001b[0m\u001b[0;34m.\u001b[0m\u001b[0m_reindex_non_unique\u001b[0m\u001b[0;34m(\u001b[0m\u001b[0mkeyarr\u001b[0m\u001b[0;34m)\u001b[0m\u001b[0;34m\u001b[0m\u001b[0;34m\u001b[0m\u001b[0m\n\u001b[1;32m   5876\u001b[0m \u001b[0;34m\u001b[0m\u001b[0m\n\u001b[0;32m-> 5877\u001b[0;31m         \u001b[0mself\u001b[0m\u001b[0;34m.\u001b[0m\u001b[0m_raise_if_missing\u001b[0m\u001b[0;34m(\u001b[0m\u001b[0mkeyarr\u001b[0m\u001b[0;34m,\u001b[0m \u001b[0mindexer\u001b[0m\u001b[0;34m,\u001b[0m \u001b[0maxis_name\u001b[0m\u001b[0;34m)\u001b[0m\u001b[0;34m\u001b[0m\u001b[0;34m\u001b[0m\u001b[0m\n\u001b[0m\u001b[1;32m   5878\u001b[0m \u001b[0;34m\u001b[0m\u001b[0m\n\u001b[1;32m   5879\u001b[0m         \u001b[0mkeyarr\u001b[0m \u001b[0;34m=\u001b[0m \u001b[0mself\u001b[0m\u001b[0;34m.\u001b[0m\u001b[0mtake\u001b[0m\u001b[0;34m(\u001b[0m\u001b[0mindexer\u001b[0m\u001b[0;34m)\u001b[0m\u001b[0;34m\u001b[0m\u001b[0;34m\u001b[0m\u001b[0m\n",
            "\u001b[0;32m/usr/local/lib/python3.10/dist-packages/pandas/core/indexes/base.py\u001b[0m in \u001b[0;36m_raise_if_missing\u001b[0;34m(self, key, indexer, axis_name)\u001b[0m\n\u001b[1;32m   5936\u001b[0m                 \u001b[0;32mif\u001b[0m \u001b[0muse_interval_msg\u001b[0m\u001b[0;34m:\u001b[0m\u001b[0;34m\u001b[0m\u001b[0;34m\u001b[0m\u001b[0m\n\u001b[1;32m   5937\u001b[0m                     \u001b[0mkey\u001b[0m \u001b[0;34m=\u001b[0m \u001b[0mlist\u001b[0m\u001b[0;34m(\u001b[0m\u001b[0mkey\u001b[0m\u001b[0;34m)\u001b[0m\u001b[0;34m\u001b[0m\u001b[0;34m\u001b[0m\u001b[0m\n\u001b[0;32m-> 5938\u001b[0;31m                 \u001b[0;32mraise\u001b[0m \u001b[0mKeyError\u001b[0m\u001b[0;34m(\u001b[0m\u001b[0;34mf\"None of [{key}] are in the [{axis_name}]\"\u001b[0m\u001b[0;34m)\u001b[0m\u001b[0;34m\u001b[0m\u001b[0;34m\u001b[0m\u001b[0m\n\u001b[0m\u001b[1;32m   5939\u001b[0m \u001b[0;34m\u001b[0m\u001b[0m\n\u001b[1;32m   5940\u001b[0m             \u001b[0mnot_found\u001b[0m \u001b[0;34m=\u001b[0m \u001b[0mlist\u001b[0m\u001b[0;34m(\u001b[0m\u001b[0mensure_index\u001b[0m\u001b[0;34m(\u001b[0m\u001b[0mkey\u001b[0m\u001b[0;34m)\u001b[0m\u001b[0;34m[\u001b[0m\u001b[0mmissing_mask\u001b[0m\u001b[0;34m.\u001b[0m\u001b[0mnonzero\u001b[0m\u001b[0;34m(\u001b[0m\u001b[0;34m)\u001b[0m\u001b[0;34m[\u001b[0m\u001b[0;36m0\u001b[0m\u001b[0;34m]\u001b[0m\u001b[0;34m]\u001b[0m\u001b[0;34m.\u001b[0m\u001b[0munique\u001b[0m\u001b[0;34m(\u001b[0m\u001b[0;34m)\u001b[0m\u001b[0;34m)\u001b[0m\u001b[0;34m\u001b[0m\u001b[0;34m\u001b[0m\u001b[0m\n",
            "\u001b[0;31mKeyError\u001b[0m: \"None of [Index(['60;1;170;70;85;180;400;150;100;15;25;10;50;5;70;1;50;30;10;5;30;20;10;5;0;0;0;10;20;10;30;0;20;10;0;20;10;0;0;10;5;20;0;0;0;40;0;0;10;5;0;0;0;0;0;0;0;0;0;0;0;40;30;0;10;20;0;0;0;0;0;0;30;20;0;0;0;40;0;0;0;0;0;0;60;0;0;0;0;0;0;0;0;0;0;0;0;30;40;0;0;20;0;0;0;0;0;0;0;40;30;0;0;20;0;0;0;0;0;0;0;40;40;0;0;30;0;0;0;0;0;0;0;40;30;0;0;20;0;0;0;0;0;0;0;40;20;0;0;20;0;0;0;0;0;0;1.0;0;5.0;-1.0;0;0;0.5;2.0;10.0;25.0;0;0;2.0;0;0;0;1.0;1.0;10.0;20.0;0.1;-3.0;1.0;0'], dtype='object')] are in the [columns]\""
          ]
        }
      ]
    }
  ]
}